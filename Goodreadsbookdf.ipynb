{
 "cells": [
  {
   "cell_type": "code",
   "execution_count": 1,
   "metadata": {},
   "outputs": [],
   "source": [
    "import pandas as pd\n",
    "import matplotlib.pyplot as plt\n",
    "import seaborn as sns\n",
    "import numpy as np \n",
    "import os\n",
    "\n"
   ]
  },
  {
   "cell_type": "code",
   "execution_count": 2,
   "metadata": {},
   "outputs": [],
   "source": [
    "url = 'C:/Users/user/Documents/Temporary data sets for practise only/books.csv'\n",
    "column_names = ['bookID','title','authors','average_rating','isbn','isbn13','language_code','# num_pages','ratings_count','text_reviews_count']\n",
    "df = pd.read_csv (url,delimiter = ',',usecols = column_names)\n"
   ]
  },
  {
   "cell_type": "markdown",
   "metadata": {},
   "source": [
    "We perform some EDA (Exploratory Data Analysis) to find out how our data looks and what it contains"
   ]
  },
  {
   "cell_type": "code",
   "execution_count": 3,
   "metadata": {},
   "outputs": [
    {
     "data": {
      "text/html": [
       "<div>\n",
       "<style scoped>\n",
       "    .dataframe tbody tr th:only-of-type {\n",
       "        vertical-align: middle;\n",
       "    }\n",
       "\n",
       "    .dataframe tbody tr th {\n",
       "        vertical-align: top;\n",
       "    }\n",
       "\n",
       "    .dataframe thead th {\n",
       "        text-align: right;\n",
       "    }\n",
       "</style>\n",
       "<table border=\"1\" class=\"dataframe\">\n",
       "  <thead>\n",
       "    <tr style=\"text-align: right;\">\n",
       "      <th></th>\n",
       "      <th>bookID</th>\n",
       "      <th>title</th>\n",
       "      <th>authors</th>\n",
       "      <th>average_rating</th>\n",
       "      <th>isbn</th>\n",
       "      <th>isbn13</th>\n",
       "      <th>language_code</th>\n",
       "      <th># num_pages</th>\n",
       "      <th>ratings_count</th>\n",
       "      <th>text_reviews_count</th>\n",
       "    </tr>\n",
       "  </thead>\n",
       "  <tbody>\n",
       "    <tr>\n",
       "      <th>0</th>\n",
       "      <td>1</td>\n",
       "      <td>Harry Potter and the Half-Blood Prince (Harry ...</td>\n",
       "      <td>J.K. Rowling-Mary GrandPré</td>\n",
       "      <td>4.56</td>\n",
       "      <td>0439785960</td>\n",
       "      <td>9780439785969</td>\n",
       "      <td>eng</td>\n",
       "      <td>652</td>\n",
       "      <td>1944099</td>\n",
       "      <td>26249</td>\n",
       "    </tr>\n",
       "    <tr>\n",
       "      <th>1</th>\n",
       "      <td>2</td>\n",
       "      <td>Harry Potter and the Order of the Phoenix (Har...</td>\n",
       "      <td>J.K. Rowling-Mary GrandPré</td>\n",
       "      <td>4.49</td>\n",
       "      <td>0439358078</td>\n",
       "      <td>9780439358071</td>\n",
       "      <td>eng</td>\n",
       "      <td>870</td>\n",
       "      <td>1996446</td>\n",
       "      <td>27613</td>\n",
       "    </tr>\n",
       "    <tr>\n",
       "      <th>2</th>\n",
       "      <td>3</td>\n",
       "      <td>Harry Potter and the Sorcerer's Stone (Harry P...</td>\n",
       "      <td>J.K. Rowling-Mary GrandPré</td>\n",
       "      <td>4.47</td>\n",
       "      <td>0439554934</td>\n",
       "      <td>9780439554930</td>\n",
       "      <td>eng</td>\n",
       "      <td>320</td>\n",
       "      <td>5629932</td>\n",
       "      <td>70390</td>\n",
       "    </tr>\n",
       "    <tr>\n",
       "      <th>3</th>\n",
       "      <td>4</td>\n",
       "      <td>Harry Potter and the Chamber of Secrets (Harry...</td>\n",
       "      <td>J.K. Rowling</td>\n",
       "      <td>4.41</td>\n",
       "      <td>0439554896</td>\n",
       "      <td>9780439554893</td>\n",
       "      <td>eng</td>\n",
       "      <td>352</td>\n",
       "      <td>6267</td>\n",
       "      <td>272</td>\n",
       "    </tr>\n",
       "    <tr>\n",
       "      <th>4</th>\n",
       "      <td>5</td>\n",
       "      <td>Harry Potter and the Prisoner of Azkaban (Harr...</td>\n",
       "      <td>J.K. Rowling-Mary GrandPré</td>\n",
       "      <td>4.55</td>\n",
       "      <td>043965548X</td>\n",
       "      <td>9780439655484</td>\n",
       "      <td>eng</td>\n",
       "      <td>435</td>\n",
       "      <td>2149872</td>\n",
       "      <td>33964</td>\n",
       "    </tr>\n",
       "  </tbody>\n",
       "</table>\n",
       "</div>"
      ],
      "text/plain": [
       "   bookID                                              title  \\\n",
       "0       1  Harry Potter and the Half-Blood Prince (Harry ...   \n",
       "1       2  Harry Potter and the Order of the Phoenix (Har...   \n",
       "2       3  Harry Potter and the Sorcerer's Stone (Harry P...   \n",
       "3       4  Harry Potter and the Chamber of Secrets (Harry...   \n",
       "4       5  Harry Potter and the Prisoner of Azkaban (Harr...   \n",
       "\n",
       "                      authors average_rating        isbn         isbn13  \\\n",
       "0  J.K. Rowling-Mary GrandPré           4.56  0439785960  9780439785969   \n",
       "1  J.K. Rowling-Mary GrandPré           4.49  0439358078  9780439358071   \n",
       "2  J.K. Rowling-Mary GrandPré           4.47  0439554934  9780439554930   \n",
       "3                J.K. Rowling           4.41  0439554896  9780439554893   \n",
       "4  J.K. Rowling-Mary GrandPré           4.55  043965548X  9780439655484   \n",
       "\n",
       "  language_code # num_pages  ratings_count  text_reviews_count  \n",
       "0           eng         652        1944099               26249  \n",
       "1           eng         870        1996446               27613  \n",
       "2           eng         320        5629932               70390  \n",
       "3           eng         352           6267                 272  \n",
       "4           eng         435        2149872               33964  "
      ]
     },
     "execution_count": 3,
     "metadata": {},
     "output_type": "execute_result"
    }
   ],
   "source": [
    "df.head()"
   ]
  },
  {
   "cell_type": "raw",
   "metadata": {},
   "source": [
    "-bookID Contains the unique ID for each book/series\n",
    "-title contains the titles of the books\n",
    "-authors contains the author of the particular book\n",
    "-average_rating the average rating of the books, as decided by the users\n",
    "-ISBN ISBN(10) number, tells the information about a book - such as edition and publisher\n",
    "-ISBN 13 The new format for ISBN, implemented in 2007. 13 digits\n",
    "-language_code Tells the language for the books\n",
    "-Num_pages Contains the number of pages for the book\n",
    "-Ratings_count Contains the number of ratings given for the book\n",
    "-text_reviews_count Has the count of reviews left by users"
   ]
  },
  {
   "cell_type": "code",
   "execution_count": 4,
   "metadata": {},
   "outputs": [
    {
     "data": {
      "text/html": [
       "<div>\n",
       "<style scoped>\n",
       "    .dataframe tbody tr th:only-of-type {\n",
       "        vertical-align: middle;\n",
       "    }\n",
       "\n",
       "    .dataframe tbody tr th {\n",
       "        vertical-align: top;\n",
       "    }\n",
       "\n",
       "    .dataframe thead th {\n",
       "        text-align: right;\n",
       "    }\n",
       "</style>\n",
       "<table border=\"1\" class=\"dataframe\">\n",
       "  <thead>\n",
       "    <tr style=\"text-align: right;\">\n",
       "      <th></th>\n",
       "      <th>bookID</th>\n",
       "      <th>ratings_count</th>\n",
       "      <th>text_reviews_count</th>\n",
       "    </tr>\n",
       "  </thead>\n",
       "  <tbody>\n",
       "    <tr>\n",
       "      <th>count</th>\n",
       "      <td>13719.000000</td>\n",
       "      <td>1.371900e+04</td>\n",
       "      <td>13719.000000</td>\n",
       "    </tr>\n",
       "    <tr>\n",
       "      <th>mean</th>\n",
       "      <td>22160.579270</td>\n",
       "      <td>1.775903e+04</td>\n",
       "      <td>533.606385</td>\n",
       "    </tr>\n",
       "    <tr>\n",
       "      <th>std</th>\n",
       "      <td>13699.603351</td>\n",
       "      <td>1.129371e+05</td>\n",
       "      <td>2528.600316</td>\n",
       "    </tr>\n",
       "    <tr>\n",
       "      <th>min</th>\n",
       "      <td>1.000000</td>\n",
       "      <td>0.000000e+00</td>\n",
       "      <td>0.000000</td>\n",
       "    </tr>\n",
       "    <tr>\n",
       "      <th>25%</th>\n",
       "      <td>10621.000000</td>\n",
       "      <td>8.300000e+01</td>\n",
       "      <td>7.000000</td>\n",
       "    </tr>\n",
       "    <tr>\n",
       "      <th>50%</th>\n",
       "      <td>21322.000000</td>\n",
       "      <td>6.300000e+02</td>\n",
       "      <td>40.000000</td>\n",
       "    </tr>\n",
       "    <tr>\n",
       "      <th>75%</th>\n",
       "      <td>33322.000000</td>\n",
       "      <td>4.737000e+03</td>\n",
       "      <td>222.000000</td>\n",
       "    </tr>\n",
       "    <tr>\n",
       "      <th>max</th>\n",
       "      <td>47709.000000</td>\n",
       "      <td>5.629932e+06</td>\n",
       "      <td>93619.000000</td>\n",
       "    </tr>\n",
       "  </tbody>\n",
       "</table>\n",
       "</div>"
      ],
      "text/plain": [
       "             bookID  ratings_count  text_reviews_count\n",
       "count  13719.000000   1.371900e+04        13719.000000\n",
       "mean   22160.579270   1.775903e+04          533.606385\n",
       "std    13699.603351   1.129371e+05         2528.600316\n",
       "min        1.000000   0.000000e+00            0.000000\n",
       "25%    10621.000000   8.300000e+01            7.000000\n",
       "50%    21322.000000   6.300000e+02           40.000000\n",
       "75%    33322.000000   4.737000e+03          222.000000\n",
       "max    47709.000000   5.629932e+06        93619.000000"
      ]
     },
     "execution_count": 4,
     "metadata": {},
     "output_type": "execute_result"
    }
   ],
   "source": [
    "df.describe()"
   ]
  },
  {
   "cell_type": "code",
   "execution_count": 5,
   "metadata": {},
   "outputs": [
    {
     "name": "stdout",
     "output_type": "stream",
     "text": [
      "<class 'pandas.core.frame.DataFrame'>\n",
      "RangeIndex: 13719 entries, 0 to 13718\n",
      "Data columns (total 10 columns):\n",
      "bookID                13719 non-null int64\n",
      "title                 13719 non-null object\n",
      "authors               13719 non-null object\n",
      "average_rating        13719 non-null object\n",
      "isbn                  13719 non-null object\n",
      "isbn13                13719 non-null object\n",
      "language_code         13719 non-null object\n",
      "# num_pages           13719 non-null object\n",
      "ratings_count         13719 non-null int64\n",
      "text_reviews_count    13719 non-null int64\n",
      "dtypes: int64(3), object(7)\n",
      "memory usage: 1.0+ MB\n"
     ]
    }
   ],
   "source": [
    "df.info()"
   ]
  },
  {
   "cell_type": "code",
   "execution_count": 6,
   "metadata": {},
   "outputs": [
    {
     "name": "stdout",
     "output_type": "stream",
     "text": [
      "Dataset contains 13719 row and 10 columns\n"
     ]
    }
   ],
   "source": [
    "print('Dataset contains {} row and {} columns'.format(df.shape[0],df.shape[1]))"
   ]
  },
  {
   "cell_type": "markdown",
   "metadata": {},
   "source": [
    "We can conclude that our data has no null entries, no missing data because as per the shape all the 10 columns and respective 13719 rows contain data"
   ]
  },
  {
   "cell_type": "code",
   "execution_count": 7,
   "metadata": {},
   "outputs": [
    {
     "data": {
      "text/plain": [
       "13719"
      ]
     },
     "execution_count": 7,
     "metadata": {},
     "output_type": "execute_result"
    }
   ],
   "source": [
    "df['title'].count()"
   ]
  },
  {
   "cell_type": "code",
   "execution_count": 8,
   "metadata": {},
   "outputs": [
    {
     "data": {
      "text/plain": [
       "bookID                 int64\n",
       "title                 object\n",
       "authors               object\n",
       "average_rating        object\n",
       "isbn                  object\n",
       "isbn13                object\n",
       "language_code         object\n",
       "# num_pages           object\n",
       "ratings_count          int64\n",
       "text_reviews_count     int64\n",
       "dtype: object"
      ]
     },
     "execution_count": 8,
     "metadata": {},
     "output_type": "execute_result"
    }
   ],
   "source": [
    "'''we check the data types'''\n",
    "df.dtypes\n"
   ]
  },
  {
   "cell_type": "code",
   "execution_count": 9,
   "metadata": {},
   "outputs": [
    {
     "data": {
      "text/plain": [
       "dtype('O')"
      ]
     },
     "execution_count": 9,
     "metadata": {},
     "output_type": "execute_result"
    }
   ],
   "source": [
    "# before we perform below analysis we need to check the tail as there seems to be some invalid data\n",
    "df.tail()\n",
    "df['average_rating'].dtypes"
   ]
  },
  {
   "cell_type": "code",
   "execution_count": 10,
   "metadata": {},
   "outputs": [],
   "source": [
    "df['average_rating'] = pd.to_numeric(df['average_rating'],errors = 'coerce')\n",
    "#there are some str values in the average_rating column thus the coerce argument, don't do it otherwise"
   ]
  },
  {
   "cell_type": "code",
   "execution_count": 11,
   "metadata": {},
   "outputs": [],
   "source": [
    "df['# num_pages'] = pd.to_numeric(df['# num_pages'], errors = 'coerce')"
   ]
  },
  {
   "cell_type": "code",
   "execution_count": 12,
   "metadata": {},
   "outputs": [
    {
     "data": {
      "text/plain": [
       "bookID                  int64\n",
       "title                  object\n",
       "authors                object\n",
       "average_rating        float64\n",
       "isbn                   object\n",
       "isbn13                 object\n",
       "language_code          object\n",
       "# num_pages           float64\n",
       "ratings_count           int64\n",
       "text_reviews_count      int64\n",
       "dtype: object"
      ]
     },
     "execution_count": 12,
     "metadata": {},
     "output_type": "execute_result"
    }
   ],
   "source": [
    "df.dtypes"
   ]
  },
  {
   "cell_type": "code",
   "execution_count": 13,
   "metadata": {},
   "outputs": [
    {
     "data": {
      "text/html": [
       "<div>\n",
       "<style scoped>\n",
       "    .dataframe tbody tr th:only-of-type {\n",
       "        vertical-align: middle;\n",
       "    }\n",
       "\n",
       "    .dataframe tbody tr th {\n",
       "        vertical-align: top;\n",
       "    }\n",
       "\n",
       "    .dataframe thead th {\n",
       "        text-align: right;\n",
       "    }\n",
       "</style>\n",
       "<table border=\"1\" class=\"dataframe\">\n",
       "  <thead>\n",
       "    <tr style=\"text-align: right;\">\n",
       "      <th></th>\n",
       "      <th>bookID</th>\n",
       "      <th>title</th>\n",
       "      <th>authors</th>\n",
       "      <th>average_rating</th>\n",
       "      <th>isbn</th>\n",
       "      <th>isbn13</th>\n",
       "      <th>language_code</th>\n",
       "      <th># num_pages</th>\n",
       "      <th>ratings_count</th>\n",
       "      <th>text_reviews_count</th>\n",
       "    </tr>\n",
       "  </thead>\n",
       "  <tbody>\n",
       "    <tr>\n",
       "      <th>0</th>\n",
       "      <td>1</td>\n",
       "      <td>Harry Potter and the Half-Blood Prince (Harry ...</td>\n",
       "      <td>J.K. Rowling-Mary GrandPré</td>\n",
       "      <td>4.56</td>\n",
       "      <td>0439785960</td>\n",
       "      <td>9780439785969</td>\n",
       "      <td>eng</td>\n",
       "      <td>652.0</td>\n",
       "      <td>1944099</td>\n",
       "      <td>26249</td>\n",
       "    </tr>\n",
       "    <tr>\n",
       "      <th>1</th>\n",
       "      <td>2</td>\n",
       "      <td>Harry Potter and the Order of the Phoenix (Har...</td>\n",
       "      <td>J.K. Rowling-Mary GrandPré</td>\n",
       "      <td>4.49</td>\n",
       "      <td>0439358078</td>\n",
       "      <td>9780439358071</td>\n",
       "      <td>eng</td>\n",
       "      <td>870.0</td>\n",
       "      <td>1996446</td>\n",
       "      <td>27613</td>\n",
       "    </tr>\n",
       "    <tr>\n",
       "      <th>2</th>\n",
       "      <td>3</td>\n",
       "      <td>Harry Potter and the Sorcerer's Stone (Harry P...</td>\n",
       "      <td>J.K. Rowling-Mary GrandPré</td>\n",
       "      <td>4.47</td>\n",
       "      <td>0439554934</td>\n",
       "      <td>9780439554930</td>\n",
       "      <td>eng</td>\n",
       "      <td>320.0</td>\n",
       "      <td>5629932</td>\n",
       "      <td>70390</td>\n",
       "    </tr>\n",
       "    <tr>\n",
       "      <th>3</th>\n",
       "      <td>4</td>\n",
       "      <td>Harry Potter and the Chamber of Secrets (Harry...</td>\n",
       "      <td>J.K. Rowling</td>\n",
       "      <td>4.41</td>\n",
       "      <td>0439554896</td>\n",
       "      <td>9780439554893</td>\n",
       "      <td>eng</td>\n",
       "      <td>352.0</td>\n",
       "      <td>6267</td>\n",
       "      <td>272</td>\n",
       "    </tr>\n",
       "    <tr>\n",
       "      <th>4</th>\n",
       "      <td>5</td>\n",
       "      <td>Harry Potter and the Prisoner of Azkaban (Harr...</td>\n",
       "      <td>J.K. Rowling-Mary GrandPré</td>\n",
       "      <td>4.55</td>\n",
       "      <td>043965548X</td>\n",
       "      <td>9780439655484</td>\n",
       "      <td>eng</td>\n",
       "      <td>435.0</td>\n",
       "      <td>2149872</td>\n",
       "      <td>33964</td>\n",
       "    </tr>\n",
       "  </tbody>\n",
       "</table>\n",
       "</div>"
      ],
      "text/plain": [
       "   bookID                                              title  \\\n",
       "0       1  Harry Potter and the Half-Blood Prince (Harry ...   \n",
       "1       2  Harry Potter and the Order of the Phoenix (Har...   \n",
       "2       3  Harry Potter and the Sorcerer's Stone (Harry P...   \n",
       "3       4  Harry Potter and the Chamber of Secrets (Harry...   \n",
       "4       5  Harry Potter and the Prisoner of Azkaban (Harr...   \n",
       "\n",
       "                      authors  average_rating        isbn         isbn13  \\\n",
       "0  J.K. Rowling-Mary GrandPré            4.56  0439785960  9780439785969   \n",
       "1  J.K. Rowling-Mary GrandPré            4.49  0439358078  9780439358071   \n",
       "2  J.K. Rowling-Mary GrandPré            4.47  0439554934  9780439554930   \n",
       "3                J.K. Rowling            4.41  0439554896  9780439554893   \n",
       "4  J.K. Rowling-Mary GrandPré            4.55  043965548X  9780439655484   \n",
       "\n",
       "  language_code  # num_pages  ratings_count  text_reviews_count  \n",
       "0           eng        652.0        1944099               26249  \n",
       "1           eng        870.0        1996446               27613  \n",
       "2           eng        320.0        5629932               70390  \n",
       "3           eng        352.0           6267                 272  \n",
       "4           eng        435.0        2149872               33964  "
      ]
     },
     "execution_count": 13,
     "metadata": {},
     "output_type": "execute_result"
    }
   ],
   "source": [
    "df.head()"
   ]
  },
  {
   "cell_type": "code",
   "execution_count": 14,
   "metadata": {},
   "outputs": [
    {
     "data": {
      "text/html": [
       "<div>\n",
       "<style scoped>\n",
       "    .dataframe tbody tr th:only-of-type {\n",
       "        vertical-align: middle;\n",
       "    }\n",
       "\n",
       "    .dataframe tbody tr th {\n",
       "        vertical-align: top;\n",
       "    }\n",
       "\n",
       "    .dataframe thead th {\n",
       "        text-align: right;\n",
       "    }\n",
       "</style>\n",
       "<table border=\"1\" class=\"dataframe\">\n",
       "  <thead>\n",
       "    <tr style=\"text-align: right;\">\n",
       "      <th></th>\n",
       "      <th>bookID</th>\n",
       "      <th>title</th>\n",
       "      <th>authors</th>\n",
       "      <th>average_rating</th>\n",
       "      <th>isbn</th>\n",
       "      <th>isbn13</th>\n",
       "      <th>language_code</th>\n",
       "      <th># num_pages</th>\n",
       "      <th>ratings_count</th>\n",
       "      <th>text_reviews_count</th>\n",
       "    </tr>\n",
       "  </thead>\n",
       "  <tbody>\n",
       "    <tr>\n",
       "      <th>13699</th>\n",
       "      <td>47645</td>\n",
       "      <td>Lirael (Abhorsen  #2)</td>\n",
       "      <td>Garth Nix</td>\n",
       "      <td>4.30</td>\n",
       "      <td>0060005424</td>\n",
       "      <td>9780060005429</td>\n",
       "      <td>en-CA</td>\n",
       "      <td>705.0</td>\n",
       "      <td>3325</td>\n",
       "      <td>351</td>\n",
       "    </tr>\n",
       "    <tr>\n",
       "      <th>13700</th>\n",
       "      <td>47648</td>\n",
       "      <td>Abhorsen: La novena puerta (The Abhorsen Trilo...</td>\n",
       "      <td>Garth Nix</td>\n",
       "      <td>4.27</td>\n",
       "      <td>8478715088</td>\n",
       "      <td>9788478715084</td>\n",
       "      <td>spa</td>\n",
       "      <td>315.0</td>\n",
       "      <td>13</td>\n",
       "      <td>2</td>\n",
       "    </tr>\n",
       "    <tr>\n",
       "      <th>13701</th>\n",
       "      <td>47649</td>\n",
       "      <td>Point Clear</td>\n",
       "      <td>Jennifer Paddock</td>\n",
       "      <td>3.14</td>\n",
       "      <td>0743287827</td>\n",
       "      <td>9780743287821</td>\n",
       "      <td>eng</td>\n",
       "      <td>240.0</td>\n",
       "      <td>179</td>\n",
       "      <td>32</td>\n",
       "    </tr>\n",
       "    <tr>\n",
       "      <th>13702</th>\n",
       "      <td>47658</td>\n",
       "      <td>Lake Forest: Estates  People and Culture (Imag...</td>\n",
       "      <td>Arthur H. Miller-Shirley M. Paddock</td>\n",
       "      <td>3.33</td>\n",
       "      <td>0738507938</td>\n",
       "      <td>9780738507934</td>\n",
       "      <td>eng</td>\n",
       "      <td>128.0</td>\n",
       "      <td>2</td>\n",
       "      <td>0</td>\n",
       "    </tr>\n",
       "    <tr>\n",
       "      <th>13703</th>\n",
       "      <td>47660</td>\n",
       "      <td>Rebeca</td>\n",
       "      <td>Daphne du Maurier</td>\n",
       "      <td>4.22</td>\n",
       "      <td>840146272X</td>\n",
       "      <td>9788401462726</td>\n",
       "      <td>spa</td>\n",
       "      <td>544.0</td>\n",
       "      <td>67</td>\n",
       "      <td>8</td>\n",
       "    </tr>\n",
       "    <tr>\n",
       "      <th>13704</th>\n",
       "      <td>47666</td>\n",
       "      <td>Abhorsen (Abhorsen  #3)</td>\n",
       "      <td>Garth Nix</td>\n",
       "      <td>4.27</td>\n",
       "      <td>0007137354</td>\n",
       "      <td>9780007137350</td>\n",
       "      <td>en-GB</td>\n",
       "      <td>396.0</td>\n",
       "      <td>1830</td>\n",
       "      <td>156</td>\n",
       "    </tr>\n",
       "    <tr>\n",
       "      <th>13705</th>\n",
       "      <td>47667</td>\n",
       "      <td>Seeing</td>\n",
       "      <td>José Saramago-Margaret Jull Costa</td>\n",
       "      <td>3.79</td>\n",
       "      <td>0156032732</td>\n",
       "      <td>9780156032735</td>\n",
       "      <td>eng</td>\n",
       "      <td>307.0</td>\n",
       "      <td>8480</td>\n",
       "      <td>625</td>\n",
       "    </tr>\n",
       "    <tr>\n",
       "      <th>13706</th>\n",
       "      <td>47668</td>\n",
       "      <td>Ensayo sobre la ceguera</td>\n",
       "      <td>José Saramago</td>\n",
       "      <td>4.11</td>\n",
       "      <td>9707311150</td>\n",
       "      <td>9789707311152</td>\n",
       "      <td>spa</td>\n",
       "      <td>329.0</td>\n",
       "      <td>10296</td>\n",
       "      <td>686</td>\n",
       "    </tr>\n",
       "    <tr>\n",
       "      <th>13707</th>\n",
       "      <td>47674</td>\n",
       "      <td>Papa  Please Get the Moon for Me</td>\n",
       "      <td>Eric Carle</td>\n",
       "      <td>4.15</td>\n",
       "      <td>0887081770</td>\n",
       "      <td>9780887081774</td>\n",
       "      <td>eng</td>\n",
       "      <td>40.0</td>\n",
       "      <td>4359</td>\n",
       "      <td>209</td>\n",
       "    </tr>\n",
       "    <tr>\n",
       "      <th>13708</th>\n",
       "      <td>47683</td>\n",
       "      <td>The Cinderella Pact</td>\n",
       "      <td>Sarah Strohmeyer-Katarína Repatá</td>\n",
       "      <td>3.71</td>\n",
       "      <td>0525949577</td>\n",
       "      <td>9780525949572</td>\n",
       "      <td>eng</td>\n",
       "      <td>304.0</td>\n",
       "      <td>10322</td>\n",
       "      <td>616</td>\n",
       "    </tr>\n",
       "    <tr>\n",
       "      <th>13709</th>\n",
       "      <td>47687</td>\n",
       "      <td>Peace Pact: The Lost World of the American Fou...</td>\n",
       "      <td>David C. Hendrickson</td>\n",
       "      <td>3.30</td>\n",
       "      <td>0700614931</td>\n",
       "      <td>9780700614936</td>\n",
       "      <td>eng</td>\n",
       "      <td>402.0</td>\n",
       "      <td>21</td>\n",
       "      <td>0</td>\n",
       "    </tr>\n",
       "    <tr>\n",
       "      <th>13710</th>\n",
       "      <td>47692</td>\n",
       "      <td>American Gods</td>\n",
       "      <td>Neil Gaiman</td>\n",
       "      <td>4.11</td>\n",
       "      <td>1594970998</td>\n",
       "      <td>9781594970993</td>\n",
       "      <td>spa</td>\n",
       "      <td>477.0</td>\n",
       "      <td>58</td>\n",
       "      <td>6</td>\n",
       "    </tr>\n",
       "    <tr>\n",
       "      <th>13711</th>\n",
       "      <td>47693</td>\n",
       "      <td>The Day I Swapped My Dad for Two Goldfish</td>\n",
       "      <td>Neil Gaiman-Dave McKean</td>\n",
       "      <td>4.03</td>\n",
       "      <td>0060587016</td>\n",
       "      <td>9780060587017</td>\n",
       "      <td>en-US</td>\n",
       "      <td>64.0</td>\n",
       "      <td>8744</td>\n",
       "      <td>524</td>\n",
       "    </tr>\n",
       "    <tr>\n",
       "      <th>13712</th>\n",
       "      <td>47695</td>\n",
       "      <td>Harlequin Valentine</td>\n",
       "      <td>Neil Gaiman-John Bolton</td>\n",
       "      <td>3.79</td>\n",
       "      <td>1840234113</td>\n",
       "      <td>9781840234114</td>\n",
       "      <td>eng</td>\n",
       "      <td>40.0</td>\n",
       "      <td>2441</td>\n",
       "      <td>68</td>\n",
       "    </tr>\n",
       "    <tr>\n",
       "      <th>13713</th>\n",
       "      <td>47697</td>\n",
       "      <td>The Sandman: King of Dreams</td>\n",
       "      <td>Alisa Kwitney-Neil Gaiman</td>\n",
       "      <td>4.62</td>\n",
       "      <td>0811835928</td>\n",
       "      <td>9780811835923</td>\n",
       "      <td>eng</td>\n",
       "      <td>180.0</td>\n",
       "      <td>12775</td>\n",
       "      <td>34</td>\n",
       "    </tr>\n",
       "    <tr>\n",
       "      <th>13714</th>\n",
       "      <td>47699</td>\n",
       "      <td>M Is for Magic</td>\n",
       "      <td>Neil Gaiman-Teddy Kristiansen</td>\n",
       "      <td>3.82</td>\n",
       "      <td>0061186422</td>\n",
       "      <td>9780061186424</td>\n",
       "      <td>eng</td>\n",
       "      <td>260.0</td>\n",
       "      <td>11317</td>\n",
       "      <td>1060</td>\n",
       "    </tr>\n",
       "    <tr>\n",
       "      <th>13715</th>\n",
       "      <td>47700</td>\n",
       "      <td>Black Orchid</td>\n",
       "      <td>Neil Gaiman-Dave McKean</td>\n",
       "      <td>3.72</td>\n",
       "      <td>0930289552</td>\n",
       "      <td>9780930289553</td>\n",
       "      <td>eng</td>\n",
       "      <td>160.0</td>\n",
       "      <td>8710</td>\n",
       "      <td>361</td>\n",
       "    </tr>\n",
       "    <tr>\n",
       "      <th>13716</th>\n",
       "      <td>47701</td>\n",
       "      <td>InterWorld (InterWorld  #1)</td>\n",
       "      <td>Neil Gaiman-Michael Reaves</td>\n",
       "      <td>3.53</td>\n",
       "      <td>0061238961</td>\n",
       "      <td>9780061238963</td>\n",
       "      <td>en-US</td>\n",
       "      <td>239.0</td>\n",
       "      <td>14334</td>\n",
       "      <td>1485</td>\n",
       "    </tr>\n",
       "    <tr>\n",
       "      <th>13717</th>\n",
       "      <td>47708</td>\n",
       "      <td>The Faeries' Oracle</td>\n",
       "      <td>Brian Froud-Jessica Macbeth</td>\n",
       "      <td>4.43</td>\n",
       "      <td>0743201116</td>\n",
       "      <td>9780743201117</td>\n",
       "      <td>eng</td>\n",
       "      <td>224.0</td>\n",
       "      <td>1550</td>\n",
       "      <td>38</td>\n",
       "    </tr>\n",
       "    <tr>\n",
       "      <th>13718</th>\n",
       "      <td>47709</td>\n",
       "      <td>The World of The Dark Crystal</td>\n",
       "      <td>Brian Froud</td>\n",
       "      <td>4.29</td>\n",
       "      <td>1862056242</td>\n",
       "      <td>9781862056244</td>\n",
       "      <td>eng</td>\n",
       "      <td>132.0</td>\n",
       "      <td>3572</td>\n",
       "      <td>33</td>\n",
       "    </tr>\n",
       "  </tbody>\n",
       "</table>\n",
       "</div>"
      ],
      "text/plain": [
       "       bookID                                              title  \\\n",
       "13699   47645                              Lirael (Abhorsen  #2)   \n",
       "13700   47648  Abhorsen: La novena puerta (The Abhorsen Trilo...   \n",
       "13701   47649                                        Point Clear   \n",
       "13702   47658  Lake Forest: Estates  People and Culture (Imag...   \n",
       "13703   47660                                             Rebeca   \n",
       "13704   47666                            Abhorsen (Abhorsen  #3)   \n",
       "13705   47667                                             Seeing   \n",
       "13706   47668                            Ensayo sobre la ceguera   \n",
       "13707   47674                   Papa  Please Get the Moon for Me   \n",
       "13708   47683                                The Cinderella Pact   \n",
       "13709   47687  Peace Pact: The Lost World of the American Fou...   \n",
       "13710   47692                                      American Gods   \n",
       "13711   47693          The Day I Swapped My Dad for Two Goldfish   \n",
       "13712   47695                                Harlequin Valentine   \n",
       "13713   47697                        The Sandman: King of Dreams   \n",
       "13714   47699                                     M Is for Magic   \n",
       "13715   47700                                       Black Orchid   \n",
       "13716   47701                        InterWorld (InterWorld  #1)   \n",
       "13717   47708                                The Faeries' Oracle   \n",
       "13718   47709                      The World of The Dark Crystal   \n",
       "\n",
       "                                   authors  average_rating        isbn  \\\n",
       "13699                            Garth Nix            4.30  0060005424   \n",
       "13700                            Garth Nix            4.27  8478715088   \n",
       "13701                     Jennifer Paddock            3.14  0743287827   \n",
       "13702  Arthur H. Miller-Shirley M. Paddock            3.33  0738507938   \n",
       "13703                    Daphne du Maurier            4.22  840146272X   \n",
       "13704                            Garth Nix            4.27  0007137354   \n",
       "13705    José Saramago-Margaret Jull Costa            3.79  0156032732   \n",
       "13706                        José Saramago            4.11  9707311150   \n",
       "13707                           Eric Carle            4.15  0887081770   \n",
       "13708     Sarah Strohmeyer-Katarína Repatá            3.71  0525949577   \n",
       "13709                 David C. Hendrickson            3.30  0700614931   \n",
       "13710                          Neil Gaiman            4.11  1594970998   \n",
       "13711              Neil Gaiman-Dave McKean            4.03  0060587016   \n",
       "13712              Neil Gaiman-John Bolton            3.79  1840234113   \n",
       "13713            Alisa Kwitney-Neil Gaiman            4.62  0811835928   \n",
       "13714        Neil Gaiman-Teddy Kristiansen            3.82  0061186422   \n",
       "13715              Neil Gaiman-Dave McKean            3.72  0930289552   \n",
       "13716           Neil Gaiman-Michael Reaves            3.53  0061238961   \n",
       "13717          Brian Froud-Jessica Macbeth            4.43  0743201116   \n",
       "13718                          Brian Froud            4.29  1862056242   \n",
       "\n",
       "              isbn13 language_code  # num_pages  ratings_count  \\\n",
       "13699  9780060005429         en-CA        705.0           3325   \n",
       "13700  9788478715084           spa        315.0             13   \n",
       "13701  9780743287821           eng        240.0            179   \n",
       "13702  9780738507934           eng        128.0              2   \n",
       "13703  9788401462726           spa        544.0             67   \n",
       "13704  9780007137350         en-GB        396.0           1830   \n",
       "13705  9780156032735           eng        307.0           8480   \n",
       "13706  9789707311152           spa        329.0          10296   \n",
       "13707  9780887081774           eng         40.0           4359   \n",
       "13708  9780525949572           eng        304.0          10322   \n",
       "13709  9780700614936           eng        402.0             21   \n",
       "13710  9781594970993           spa        477.0             58   \n",
       "13711  9780060587017         en-US         64.0           8744   \n",
       "13712  9781840234114           eng         40.0           2441   \n",
       "13713  9780811835923           eng        180.0          12775   \n",
       "13714  9780061186424           eng        260.0          11317   \n",
       "13715  9780930289553           eng        160.0           8710   \n",
       "13716  9780061238963         en-US        239.0          14334   \n",
       "13717  9780743201117           eng        224.0           1550   \n",
       "13718  9781862056244           eng        132.0           3572   \n",
       "\n",
       "       text_reviews_count  \n",
       "13699                 351  \n",
       "13700                   2  \n",
       "13701                  32  \n",
       "13702                   0  \n",
       "13703                   8  \n",
       "13704                 156  \n",
       "13705                 625  \n",
       "13706                 686  \n",
       "13707                 209  \n",
       "13708                 616  \n",
       "13709                   0  \n",
       "13710                   6  \n",
       "13711                 524  \n",
       "13712                  68  \n",
       "13713                  34  \n",
       "13714                1060  \n",
       "13715                 361  \n",
       "13716                1485  \n",
       "13717                  38  \n",
       "13718                  33  "
      ]
     },
     "execution_count": 14,
     "metadata": {},
     "output_type": "execute_result"
    }
   ],
   "source": [
    "df.tail(20)"
   ]
  },
  {
   "cell_type": "code",
   "execution_count": 15,
   "metadata": {},
   "outputs": [],
   "source": [
    "inval = df[df['average_rating'] <= 0]"
   ]
  },
  {
   "cell_type": "code",
   "execution_count": 16,
   "metadata": {},
   "outputs": [
    {
     "name": "stdout",
     "output_type": "stream",
     "text": [
      "(34, 10)\n"
     ]
    }
   ],
   "source": [
    "print(inval.shape)"
   ]
  },
  {
   "cell_type": "code",
   "execution_count": 17,
   "metadata": {},
   "outputs": [],
   "source": [
    "# as we can see above only 34 entries contain the <=0 entries including the entries  that we coerced hence we can drop those \n",
    "# without significant loss or effect on our analysis."
   ]
  },
  {
   "cell_type": "code",
   "execution_count": 18,
   "metadata": {},
   "outputs": [],
   "source": [
    "df = df.drop (inval.index, axis = 0)"
   ]
  },
  {
   "cell_type": "code",
   "execution_count": 19,
   "metadata": {},
   "outputs": [
    {
     "data": {
      "text/plain": [
       "(13685, 10)"
      ]
     },
     "execution_count": 19,
     "metadata": {},
     "output_type": "execute_result"
    }
   ],
   "source": [
    "df.shape"
   ]
  },
  {
   "cell_type": "code",
   "execution_count": 20,
   "metadata": {},
   "outputs": [],
   "source": [
    "# we've dropped the columns that had the invalid enties on the 'average_rating' column we can counter check this as our original df had \n",
    "# 13719 rows and now we have 13685, do the math"
   ]
  },
  {
   "cell_type": "code",
   "execution_count": 21,
   "metadata": {},
   "outputs": [],
   "source": [
    "# we also corced some values on the '# num_pages' column hence we need to check and clean that as well\n",
    "\n",
    "inval2 = df[df['# num_pages']<=0]\n",
    "df = df.drop(inval2.index, axis = 0)\n"
   ]
  },
  {
   "cell_type": "code",
   "execution_count": 22,
   "metadata": {},
   "outputs": [
    {
     "data": {
      "text/plain": [
       "(13600, 10)"
      ]
     },
     "execution_count": 22,
     "metadata": {},
     "output_type": "execute_result"
    }
   ],
   "source": [
    "df.shape"
   ]
  },
  {
   "cell_type": "code",
   "execution_count": 23,
   "metadata": {},
   "outputs": [],
   "source": [
    "# now we have a dataframe we can  perform some analysis."
   ]
  },
  {
   "cell_type": "code",
   "execution_count": 24,
   "metadata": {},
   "outputs": [
    {
     "data": {
      "text/html": [
       "<div>\n",
       "<style scoped>\n",
       "    .dataframe tbody tr th:only-of-type {\n",
       "        vertical-align: middle;\n",
       "    }\n",
       "\n",
       "    .dataframe tbody tr th {\n",
       "        vertical-align: top;\n",
       "    }\n",
       "\n",
       "    .dataframe thead th {\n",
       "        text-align: right;\n",
       "    }\n",
       "</style>\n",
       "<table border=\"1\" class=\"dataframe\">\n",
       "  <thead>\n",
       "    <tr style=\"text-align: right;\">\n",
       "      <th></th>\n",
       "      <th>bookID</th>\n",
       "      <th>title</th>\n",
       "      <th>authors</th>\n",
       "      <th>average_rating</th>\n",
       "      <th>isbn</th>\n",
       "      <th>isbn13</th>\n",
       "      <th>language_code</th>\n",
       "      <th># num_pages</th>\n",
       "      <th>ratings_count</th>\n",
       "      <th>text_reviews_count</th>\n",
       "    </tr>\n",
       "  </thead>\n",
       "  <tbody>\n",
       "    <tr>\n",
       "      <th>0</th>\n",
       "      <td>1</td>\n",
       "      <td>Harry Potter and the Half-Blood Prince (Harry ...</td>\n",
       "      <td>J.K. Rowling-Mary GrandPré</td>\n",
       "      <td>4.56</td>\n",
       "      <td>0439785960</td>\n",
       "      <td>9780439785969</td>\n",
       "      <td>eng</td>\n",
       "      <td>652.0</td>\n",
       "      <td>1944099</td>\n",
       "      <td>26249</td>\n",
       "    </tr>\n",
       "    <tr>\n",
       "      <th>1</th>\n",
       "      <td>2</td>\n",
       "      <td>Harry Potter and the Order of the Phoenix (Har...</td>\n",
       "      <td>J.K. Rowling-Mary GrandPré</td>\n",
       "      <td>4.49</td>\n",
       "      <td>0439358078</td>\n",
       "      <td>9780439358071</td>\n",
       "      <td>eng</td>\n",
       "      <td>870.0</td>\n",
       "      <td>1996446</td>\n",
       "      <td>27613</td>\n",
       "    </tr>\n",
       "    <tr>\n",
       "      <th>2</th>\n",
       "      <td>3</td>\n",
       "      <td>Harry Potter and the Sorcerer's Stone (Harry P...</td>\n",
       "      <td>J.K. Rowling-Mary GrandPré</td>\n",
       "      <td>4.47</td>\n",
       "      <td>0439554934</td>\n",
       "      <td>9780439554930</td>\n",
       "      <td>eng</td>\n",
       "      <td>320.0</td>\n",
       "      <td>5629932</td>\n",
       "      <td>70390</td>\n",
       "    </tr>\n",
       "    <tr>\n",
       "      <th>3</th>\n",
       "      <td>4</td>\n",
       "      <td>Harry Potter and the Chamber of Secrets (Harry...</td>\n",
       "      <td>J.K. Rowling</td>\n",
       "      <td>4.41</td>\n",
       "      <td>0439554896</td>\n",
       "      <td>9780439554893</td>\n",
       "      <td>eng</td>\n",
       "      <td>352.0</td>\n",
       "      <td>6267</td>\n",
       "      <td>272</td>\n",
       "    </tr>\n",
       "    <tr>\n",
       "      <th>4</th>\n",
       "      <td>5</td>\n",
       "      <td>Harry Potter and the Prisoner of Azkaban (Harr...</td>\n",
       "      <td>J.K. Rowling-Mary GrandPré</td>\n",
       "      <td>4.55</td>\n",
       "      <td>043965548X</td>\n",
       "      <td>9780439655484</td>\n",
       "      <td>eng</td>\n",
       "      <td>435.0</td>\n",
       "      <td>2149872</td>\n",
       "      <td>33964</td>\n",
       "    </tr>\n",
       "  </tbody>\n",
       "</table>\n",
       "</div>"
      ],
      "text/plain": [
       "   bookID                                              title  \\\n",
       "0       1  Harry Potter and the Half-Blood Prince (Harry ...   \n",
       "1       2  Harry Potter and the Order of the Phoenix (Har...   \n",
       "2       3  Harry Potter and the Sorcerer's Stone (Harry P...   \n",
       "3       4  Harry Potter and the Chamber of Secrets (Harry...   \n",
       "4       5  Harry Potter and the Prisoner of Azkaban (Harr...   \n",
       "\n",
       "                      authors  average_rating        isbn         isbn13  \\\n",
       "0  J.K. Rowling-Mary GrandPré            4.56  0439785960  9780439785969   \n",
       "1  J.K. Rowling-Mary GrandPré            4.49  0439358078  9780439358071   \n",
       "2  J.K. Rowling-Mary GrandPré            4.47  0439554934  9780439554930   \n",
       "3                J.K. Rowling            4.41  0439554896  9780439554893   \n",
       "4  J.K. Rowling-Mary GrandPré            4.55  043965548X  9780439655484   \n",
       "\n",
       "  language_code  # num_pages  ratings_count  text_reviews_count  \n",
       "0           eng        652.0        1944099               26249  \n",
       "1           eng        870.0        1996446               27613  \n",
       "2           eng        320.0        5629932               70390  \n",
       "3           eng        352.0           6267                 272  \n",
       "4           eng        435.0        2149872               33964  "
      ]
     },
     "execution_count": 24,
     "metadata": {},
     "output_type": "execute_result"
    }
   ],
   "source": [
    "df.head()"
   ]
  },
  {
   "cell_type": "code",
   "execution_count": 25,
   "metadata": {},
   "outputs": [],
   "source": [
    "dupllicateddf = df[df.duplicated('bookID')]"
   ]
  },
  {
   "cell_type": "code",
   "execution_count": 26,
   "metadata": {},
   "outputs": [
    {
     "name": "stdout",
     "output_type": "stream",
     "text": [
      "(0, 10)\n"
     ]
    }
   ],
   "source": [
    "print (dupllicateddf.shape)"
   ]
  },
  {
   "cell_type": "code",
   "execution_count": 27,
   "metadata": {},
   "outputs": [],
   "source": [
    "#since there are no duplicate values in the 'bookID' column we can use it as the index\n",
    "df.set_index('bookID', inplace = True)"
   ]
  },
  {
   "cell_type": "code",
   "execution_count": 28,
   "metadata": {},
   "outputs": [
    {
     "data": {
      "text/html": [
       "<div>\n",
       "<style scoped>\n",
       "    .dataframe tbody tr th:only-of-type {\n",
       "        vertical-align: middle;\n",
       "    }\n",
       "\n",
       "    .dataframe tbody tr th {\n",
       "        vertical-align: top;\n",
       "    }\n",
       "\n",
       "    .dataframe thead th {\n",
       "        text-align: right;\n",
       "    }\n",
       "</style>\n",
       "<table border=\"1\" class=\"dataframe\">\n",
       "  <thead>\n",
       "    <tr style=\"text-align: right;\">\n",
       "      <th></th>\n",
       "      <th>title</th>\n",
       "      <th>authors</th>\n",
       "      <th>average_rating</th>\n",
       "      <th>isbn</th>\n",
       "      <th>isbn13</th>\n",
       "      <th>language_code</th>\n",
       "      <th># num_pages</th>\n",
       "      <th>ratings_count</th>\n",
       "      <th>text_reviews_count</th>\n",
       "    </tr>\n",
       "    <tr>\n",
       "      <th>bookID</th>\n",
       "      <th></th>\n",
       "      <th></th>\n",
       "      <th></th>\n",
       "      <th></th>\n",
       "      <th></th>\n",
       "      <th></th>\n",
       "      <th></th>\n",
       "      <th></th>\n",
       "      <th></th>\n",
       "    </tr>\n",
       "  </thead>\n",
       "  <tbody>\n",
       "    <tr>\n",
       "      <th>1</th>\n",
       "      <td>Harry Potter and the Half-Blood Prince (Harry ...</td>\n",
       "      <td>J.K. Rowling-Mary GrandPré</td>\n",
       "      <td>4.56</td>\n",
       "      <td>0439785960</td>\n",
       "      <td>9780439785969</td>\n",
       "      <td>eng</td>\n",
       "      <td>652.0</td>\n",
       "      <td>1944099</td>\n",
       "      <td>26249</td>\n",
       "    </tr>\n",
       "    <tr>\n",
       "      <th>2</th>\n",
       "      <td>Harry Potter and the Order of the Phoenix (Har...</td>\n",
       "      <td>J.K. Rowling-Mary GrandPré</td>\n",
       "      <td>4.49</td>\n",
       "      <td>0439358078</td>\n",
       "      <td>9780439358071</td>\n",
       "      <td>eng</td>\n",
       "      <td>870.0</td>\n",
       "      <td>1996446</td>\n",
       "      <td>27613</td>\n",
       "    </tr>\n",
       "    <tr>\n",
       "      <th>3</th>\n",
       "      <td>Harry Potter and the Sorcerer's Stone (Harry P...</td>\n",
       "      <td>J.K. Rowling-Mary GrandPré</td>\n",
       "      <td>4.47</td>\n",
       "      <td>0439554934</td>\n",
       "      <td>9780439554930</td>\n",
       "      <td>eng</td>\n",
       "      <td>320.0</td>\n",
       "      <td>5629932</td>\n",
       "      <td>70390</td>\n",
       "    </tr>\n",
       "    <tr>\n",
       "      <th>4</th>\n",
       "      <td>Harry Potter and the Chamber of Secrets (Harry...</td>\n",
       "      <td>J.K. Rowling</td>\n",
       "      <td>4.41</td>\n",
       "      <td>0439554896</td>\n",
       "      <td>9780439554893</td>\n",
       "      <td>eng</td>\n",
       "      <td>352.0</td>\n",
       "      <td>6267</td>\n",
       "      <td>272</td>\n",
       "    </tr>\n",
       "    <tr>\n",
       "      <th>5</th>\n",
       "      <td>Harry Potter and the Prisoner of Azkaban (Harr...</td>\n",
       "      <td>J.K. Rowling-Mary GrandPré</td>\n",
       "      <td>4.55</td>\n",
       "      <td>043965548X</td>\n",
       "      <td>9780439655484</td>\n",
       "      <td>eng</td>\n",
       "      <td>435.0</td>\n",
       "      <td>2149872</td>\n",
       "      <td>33964</td>\n",
       "    </tr>\n",
       "  </tbody>\n",
       "</table>\n",
       "</div>"
      ],
      "text/plain": [
       "                                                    title  \\\n",
       "bookID                                                      \n",
       "1       Harry Potter and the Half-Blood Prince (Harry ...   \n",
       "2       Harry Potter and the Order of the Phoenix (Har...   \n",
       "3       Harry Potter and the Sorcerer's Stone (Harry P...   \n",
       "4       Harry Potter and the Chamber of Secrets (Harry...   \n",
       "5       Harry Potter and the Prisoner of Azkaban (Harr...   \n",
       "\n",
       "                           authors  average_rating        isbn         isbn13  \\\n",
       "bookID                                                                          \n",
       "1       J.K. Rowling-Mary GrandPré            4.56  0439785960  9780439785969   \n",
       "2       J.K. Rowling-Mary GrandPré            4.49  0439358078  9780439358071   \n",
       "3       J.K. Rowling-Mary GrandPré            4.47  0439554934  9780439554930   \n",
       "4                     J.K. Rowling            4.41  0439554896  9780439554893   \n",
       "5       J.K. Rowling-Mary GrandPré            4.55  043965548X  9780439655484   \n",
       "\n",
       "       language_code  # num_pages  ratings_count  text_reviews_count  \n",
       "bookID                                                                \n",
       "1                eng        652.0        1944099               26249  \n",
       "2                eng        870.0        1996446               27613  \n",
       "3                eng        320.0        5629932               70390  \n",
       "4                eng        352.0           6267                 272  \n",
       "5                eng        435.0        2149872               33964  "
      ]
     },
     "execution_count": 28,
     "metadata": {},
     "output_type": "execute_result"
    }
   ],
   "source": [
    "df.head()"
   ]
  },
  {
   "cell_type": "code",
   "execution_count": 29,
   "metadata": {},
   "outputs": [
    {
     "name": "stdout",
     "output_type": "stream",
     "text": [
      "['J.K. Rowling-Mary GrandPré' 'J.K. Rowling' 'W. Frederick Zimmerman' ...\n",
      " 'Neil Gaiman-Michael Reaves' 'Brian Froud-Jessica Macbeth' 'Brian Froud']\n"
     ]
    }
   ],
   "source": [
    "print(df['authors'].unique())"
   ]
  },
  {
   "cell_type": "code",
   "execution_count": 30,
   "metadata": {},
   "outputs": [],
   "source": [
    "inval3 = df[df['ratings_count']<=0]"
   ]
  },
  {
   "cell_type": "code",
   "execution_count": 31,
   "metadata": {},
   "outputs": [
    {
     "data": {
      "text/plain": [
       "(79, 9)"
      ]
     },
     "execution_count": 31,
     "metadata": {},
     "output_type": "execute_result"
    }
   ],
   "source": [
    "inval3.shape"
   ]
  },
  {
   "cell_type": "code",
   "execution_count": 32,
   "metadata": {},
   "outputs": [],
   "source": [
    "df = df.drop(inval3.index, axis = 0)"
   ]
  },
  {
   "cell_type": "code",
   "execution_count": 33,
   "metadata": {},
   "outputs": [
    {
     "name": "stdout",
     "output_type": "stream",
     "text": [
      "Dataset contains 13521 row and 9 columns\n"
     ]
    }
   ],
   "source": [
    "print('Dataset contains {} row and {} columns'.format(df.shape[0],df.shape[1]))"
   ]
  },
  {
   "cell_type": "code",
   "execution_count": 34,
   "metadata": {},
   "outputs": [],
   "source": [
    "df.to_csv ('C:/Users/user/Documents/Temporary data sets for practise only/booksclean.csv')\n",
    "# we've a cleaner dataset now we can do a good deed an re-upload to kaggle where we got the original data from"
   ]
  },
  {
   "cell_type": "code",
   "execution_count": 35,
   "metadata": {},
   "outputs": [],
   "source": [
    "# for our analysis we need to format the authors column as we've seen there is 'J.K. Rowling-Mary GrandPré' and 'J.K. Rowling'\n",
    "# replace with only J.K. Rowling\n",
    "df.replace(to_replace = 'J.K. Rowling-Mary GrandPré', value = 'J.K. Rowling', inplace = True )"
   ]
  },
  {
   "cell_type": "code",
   "execution_count": 36,
   "metadata": {},
   "outputs": [
    {
     "data": {
      "text/html": [
       "<div>\n",
       "<style scoped>\n",
       "    .dataframe tbody tr th:only-of-type {\n",
       "        vertical-align: middle;\n",
       "    }\n",
       "\n",
       "    .dataframe tbody tr th {\n",
       "        vertical-align: top;\n",
       "    }\n",
       "\n",
       "    .dataframe thead th {\n",
       "        text-align: right;\n",
       "    }\n",
       "</style>\n",
       "<table border=\"1\" class=\"dataframe\">\n",
       "  <thead>\n",
       "    <tr style=\"text-align: right;\">\n",
       "      <th></th>\n",
       "      <th>title</th>\n",
       "      <th>authors</th>\n",
       "      <th>average_rating</th>\n",
       "      <th>isbn</th>\n",
       "      <th>isbn13</th>\n",
       "      <th>language_code</th>\n",
       "      <th># num_pages</th>\n",
       "      <th>ratings_count</th>\n",
       "      <th>text_reviews_count</th>\n",
       "    </tr>\n",
       "    <tr>\n",
       "      <th>bookID</th>\n",
       "      <th></th>\n",
       "      <th></th>\n",
       "      <th></th>\n",
       "      <th></th>\n",
       "      <th></th>\n",
       "      <th></th>\n",
       "      <th></th>\n",
       "      <th></th>\n",
       "      <th></th>\n",
       "    </tr>\n",
       "  </thead>\n",
       "  <tbody>\n",
       "    <tr>\n",
       "      <th>1</th>\n",
       "      <td>Harry Potter and the Half-Blood Prince (Harry ...</td>\n",
       "      <td>J.K. Rowling</td>\n",
       "      <td>4.56</td>\n",
       "      <td>0439785960</td>\n",
       "      <td>9780439785969</td>\n",
       "      <td>eng</td>\n",
       "      <td>652.0</td>\n",
       "      <td>1944099</td>\n",
       "      <td>26249</td>\n",
       "    </tr>\n",
       "    <tr>\n",
       "      <th>2</th>\n",
       "      <td>Harry Potter and the Order of the Phoenix (Har...</td>\n",
       "      <td>J.K. Rowling</td>\n",
       "      <td>4.49</td>\n",
       "      <td>0439358078</td>\n",
       "      <td>9780439358071</td>\n",
       "      <td>eng</td>\n",
       "      <td>870.0</td>\n",
       "      <td>1996446</td>\n",
       "      <td>27613</td>\n",
       "    </tr>\n",
       "    <tr>\n",
       "      <th>3</th>\n",
       "      <td>Harry Potter and the Sorcerer's Stone (Harry P...</td>\n",
       "      <td>J.K. Rowling</td>\n",
       "      <td>4.47</td>\n",
       "      <td>0439554934</td>\n",
       "      <td>9780439554930</td>\n",
       "      <td>eng</td>\n",
       "      <td>320.0</td>\n",
       "      <td>5629932</td>\n",
       "      <td>70390</td>\n",
       "    </tr>\n",
       "    <tr>\n",
       "      <th>4</th>\n",
       "      <td>Harry Potter and the Chamber of Secrets (Harry...</td>\n",
       "      <td>J.K. Rowling</td>\n",
       "      <td>4.41</td>\n",
       "      <td>0439554896</td>\n",
       "      <td>9780439554893</td>\n",
       "      <td>eng</td>\n",
       "      <td>352.0</td>\n",
       "      <td>6267</td>\n",
       "      <td>272</td>\n",
       "    </tr>\n",
       "    <tr>\n",
       "      <th>5</th>\n",
       "      <td>Harry Potter and the Prisoner of Azkaban (Harr...</td>\n",
       "      <td>J.K. Rowling</td>\n",
       "      <td>4.55</td>\n",
       "      <td>043965548X</td>\n",
       "      <td>9780439655484</td>\n",
       "      <td>eng</td>\n",
       "      <td>435.0</td>\n",
       "      <td>2149872</td>\n",
       "      <td>33964</td>\n",
       "    </tr>\n",
       "  </tbody>\n",
       "</table>\n",
       "</div>"
      ],
      "text/plain": [
       "                                                    title       authors  \\\n",
       "bookID                                                                    \n",
       "1       Harry Potter and the Half-Blood Prince (Harry ...  J.K. Rowling   \n",
       "2       Harry Potter and the Order of the Phoenix (Har...  J.K. Rowling   \n",
       "3       Harry Potter and the Sorcerer's Stone (Harry P...  J.K. Rowling   \n",
       "4       Harry Potter and the Chamber of Secrets (Harry...  J.K. Rowling   \n",
       "5       Harry Potter and the Prisoner of Azkaban (Harr...  J.K. Rowling   \n",
       "\n",
       "        average_rating        isbn         isbn13 language_code  # num_pages  \\\n",
       "bookID                                                                         \n",
       "1                 4.56  0439785960  9780439785969           eng        652.0   \n",
       "2                 4.49  0439358078  9780439358071           eng        870.0   \n",
       "3                 4.47  0439554934  9780439554930           eng        320.0   \n",
       "4                 4.41  0439554896  9780439554893           eng        352.0   \n",
       "5                 4.55  043965548X  9780439655484           eng        435.0   \n",
       "\n",
       "        ratings_count  text_reviews_count  \n",
       "bookID                                     \n",
       "1             1944099               26249  \n",
       "2             1996446               27613  \n",
       "3             5629932               70390  \n",
       "4                6267                 272  \n",
       "5             2149872               33964  "
      ]
     },
     "execution_count": 36,
     "metadata": {},
     "output_type": "execute_result"
    }
   ],
   "source": [
    "df.head()"
   ]
  },
  {
   "cell_type": "code",
   "execution_count": 37,
   "metadata": {},
   "outputs": [
    {
     "data": {
      "image/png": "[encoded data removed]",
      "text/plain": [
       "<Figure size 1080x720 with 1 Axes>"
      ]
     },
     "metadata": {
      "needs_background": "light"
     },
     "output_type": "display_data"
    }
   ],
   "source": [
    "# we can check the authors with the most pages.\n",
    "\n",
    "sns.set_context('talk')\n",
    "most_pages = df.groupby('authors')['# num_pages'].sum().reset_index().sort_values('# num_pages', ascending = False).head(10).set_index('authors')\n",
    "\n",
    "plt.figure(figsize=(15,10))\n",
    "ax = sns.barplot(most_pages['# num_pages'], most_pages.index, palette='icefire_r')\n",
    "ax.set_title(\"Top 10 authors with most pages\")\n",
    "ax.set_xlabel(\"Total number of pages\")\n",
    "for i in ax.patches:\n",
    "    ax.text(i.get_width()+.3, i.get_y()+0.5, str(round(i.get_width())), fontsize = 10, color = 'k')"
   ]
  },
  {
   "cell_type": "code",
   "execution_count": 38,
   "metadata": {},
   "outputs": [
    {
     "data": {
      "image/png": "[encoded data removed]",
      "text/plain": [
       "<Figure size 1080x720 with 1 Axes>"
      ]
     },
     "metadata": {
      "needs_background": "light"
     },
     "output_type": "display_data"
    }
   ],
   "source": [
    "# we can also check for the books with the most ratings count\n",
    "\n",
    "sns.set_context('talk')\n",
    "most_pages = df.groupby('title')['ratings_count'].sum().reset_index().sort_values('ratings_count', ascending = False).head(10).set_index('title')\n",
    "\n",
    "plt.figure(figsize=(15,10))\n",
    "ax = sns.barplot(most_pages['ratings_count'], most_pages.index, palette='icefire_r')\n",
    "ax.set_title(\"Books with the most ratings\")\n",
    "ax.set_xlabel(\"Total number of ratings\")\n",
    "for i in ax.patches:\n",
    "    ax.text(i.get_width()+.3, i.get_y()+0.5, str(round(i.get_width())), fontsize = 10, color = 'k')"
   ]
  },
  {
   "cell_type": "code",
   "execution_count": 39,
   "metadata": {},
   "outputs": [
    {
     "data": {
      "image/png": "[encoded data removed]",
      "text/plain": [
       "<Figure size 1080x720 with 1 Axes>"
      ]
     },
     "metadata": {
      "needs_background": "light"
     },
     "output_type": "display_data"
    }
   ],
   "source": [
    "# we can also consider the text reviews count because this would mean the readers took some of their time to review .\n",
    "\n",
    "sns.set_context('talk')\n",
    "most_pages = df.groupby('title')['text_reviews_count'].sum().reset_index().sort_values('text_reviews_count', ascending = False).head(10).set_index('title')\n",
    "\n",
    "plt.figure(figsize=(15,10))\n",
    "ax = sns.barplot(most_pages['text_reviews_count'], most_pages.index, palette='icefire_r')\n",
    "ax.set_title(\"Books with the most text_ratings\")\n",
    "ax.set_xlabel(\"Total number of text_ratings\")\n",
    "for i in ax.patches:\n",
    "    ax.text(i.get_width()+.3, i.get_y()+0.5, str(round(i.get_width())), fontsize = 10, color = 'k')\n",
    "    \n",
    "    \n",
    "\n",
    "# interesting as the book with the top rating review count is not the one with the highest number of text_reviews_count\n"
   ]
  },
  {
   "cell_type": "code",
   "execution_count": 40,
   "metadata": {},
   "outputs": [
    {
     "data": {
      "text/plain": [
       "Agatha Christie                69\n",
       "Stephen King                   66\n",
       "Orson Scott Card               48\n",
       "Rumiko Takahashi               45\n",
       "P.G. Wodehouse                 42\n",
       "Terry Brooks                   39\n",
       "Piers Anthony                  34\n",
       "Margaret Weis-Tracy Hickman    33\n",
       "Dan Simmons                    32\n",
       "Gabriel García Márquez         31\n",
       "Name: authors, dtype: int64"
      ]
     },
     "execution_count": 40,
     "metadata": {},
     "output_type": "execute_result"
    }
   ],
   "source": [
    "df['authors'].value_counts().head(10)"
   ]
  },
  {
   "cell_type": "code",
   "execution_count": 46,
   "metadata": {},
   "outputs": [
    {
     "data": {
      "image/png": "[encoded data removed]",
      "text/plain": [
       "<Figure size 1080x720 with 1 Axes>"
      ]
     },
     "metadata": {
      "needs_background": "light"
     },
     "output_type": "display_data"
    }
   ],
   "source": [
    "# we can check for the most highly rated authors.\n",
    "\n",
    "high_rated_author = df[df['average_rating']>=4.3]\n",
    "high_rated_author = high_rated_author.groupby('authors')['title'].count().reset_index().sort_values('title', ascending = False).head(10).set_index('authors')\n",
    "plt.figure(figsize=(15,10))\n",
    "ax = sns.barplot(high_rated_author['title'], high_rated_author.index, palette='Set2')\n",
    "ax.set_xlabel(\"Number of Books\")\n",
    "ax.set_ylabel(\"Authors\")\n",
    "for i in ax.patches:\n",
    "    ax.text(i.get_width()+.3, i.get_y()+0.5, str(round(i.get_width())), fontsize = 10, color = 'k')"
   ]
  },
  {
   "cell_type": "code",
   "execution_count": 52,
   "metadata": {},
   "outputs": [],
   "source": [
    "# we now define a function to classify our data.\n",
    "\n",
    "def classification(data):\n",
    "    values = []\n",
    "    for val in data.average_rating:\n",
    "        if val>=0 and val<=1:\n",
    "            values.append(\"Between 0 and 1\")\n",
    "        elif val>1 and val<=2:\n",
    "            values.append(\"Between 1 and 2\")\n",
    "        elif val>2 and val<=3:\n",
    "            values.append(\"Between 2 and 3\")\n",
    "        elif val>3 and val<=4:\n",
    "            values.append(\"Between 3 and 4\")\n",
    "        elif val>4 and val<=5:\n",
    "            values.append(\"Between 4 and 5\")\n",
    "        else:\n",
    "            values.append(\"NaN\")\n",
    "    print(len(values))\n",
    "    return values\n"
   ]
  },
  {
   "cell_type": "code",
   "execution_count": 53,
   "metadata": {},
   "outputs": [],
   "source": [
    "df.dropna(0, inplace=True)"
   ]
  },
  {
   "cell_type": "code",
   "execution_count": 59,
   "metadata": {},
   "outputs": [
    {
     "name": "stdout",
     "output_type": "stream",
     "text": [
      "13516\n"
     ]
    },
    {
     "data": {
      "text/plain": [
       "<matplotlib.legend.Legend at 0x16d20b86630>"
      ]
     },
     "execution_count": 59,
     "metadata": {},
     "output_type": "execute_result"
    },
    {
     "data": {
      "image/png": "[encoded data removed]",
      "text/plain": [
       "<Figure size 432x288 with 1 Axes>"
      ]
     },
     "metadata": {},
     "output_type": "display_data"
    }
   ],
   "source": [
    "# we then write a function to classify out data in each of the above bins and slot it.\n",
    "\n",
    "df['Ratings_Dist'] = classification(df)\n",
    "ratings_pie = df['Ratings_Dist'].value_counts().reset_index()\n",
    "labels = ratings_pie['index']\n",
    "colors = ['maroon','red','green','bisque', 'black']\n",
    "percent = 100.*ratings_pie['Ratings_Dist']/ratings_pie['Ratings_Dist'].sum()\n",
    "fig, ax1 = plt.subplots()\n",
    "ax1.pie(ratings_pie['Ratings_Dist'],colors = colors,pctdistance=0.85, startangle=90, explode = (0.05, 0.05, 0.05, 0.05, 0.05))\n",
    "\n",
    "#Draw a circle now:\n",
    "centre_circle = plt.Circle((0,0), 0.70, fc ='white')\n",
    "fig1 = plt.gcf()\n",
    "fig1.gca().add_artist(centre_circle)\n",
    "#Equal Aspect ratio ensures that pie is drawn as a circle\n",
    "plt.axis('equal')\n",
    "plt.tight_layout()\n",
    "labels = ['{0} - {1:1.2f} %'.format(i,j) for i,j in zip(labels, percent)]\n",
    "plt.legend( labels, loc = 'best',bbox_to_anchor=(-0.1, 1.),)"
   ]
  },
  {
   "cell_type": "code",
   "execution_count": 60,
   "metadata": {},
   "outputs": [],
   "source": [
    "# from above graph we can see the distribution of the ratings.most readers rated between 3 and 4"
   ]
  },
  {
   "cell_type": "code",
   "execution_count": null,
   "metadata": {},
   "outputs": [],
   "source": []
  }
 ],
 "metadata": {
  "kernelspec": {
   "display_name": "Python 3",
   "language": "python",
   "name": "python3"
  },
  "language_info": {
   "codemirror_mode": {
    "name": "ipython",
    "version": 3
   },
   "file_extension": ".py",
   "mimetype": "text/x-python",
   "name": "python",
   "nbconvert_exporter": "python",
   "pygments_lexer": "ipython3",
   "version": "3.6.7"
  }
 },
 "nbformat": 4,
 "nbformat_minor": 2
}
